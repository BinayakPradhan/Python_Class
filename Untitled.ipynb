{
 "cells": [
  {
   "cell_type": "code",
   "execution_count": 1,
   "id": "ae1ca256",
   "metadata": {},
   "outputs": [
    {
     "name": "stdout",
     "output_type": "stream",
     "text": [
      "[3.5, 'Hello', 3, 2, 1]\n"
     ]
    }
   ],
   "source": [
    "my_list = [1,2,3,\"Hello\",3.5] \n",
    "my_list1 = my_list[::-1] \n",
    "print(my_list1)"
   ]
  },
  {
   "cell_type": "markdown",
   "id": "912a680d",
   "metadata": {},
   "source": []
  },
  {
   "cell_type": "code",
   "execution_count": 2,
   "id": "28f82edc",
   "metadata": {},
   "outputs": [
    {
     "data": {
      "text/plain": [
       "[7.77, 'flash', 3, 2, 1]"
      ]
     },
     "execution_count": 2,
     "metadata": {},
     "output_type": "execute_result"
    }
   ],
   "source": [
    "my_list = [1,2,3,\"flash\",7.77]\n",
    "my_list[::-1] "
   ]
  },
  {
   "cell_type": "code",
   "execution_count": 3,
   "id": "59378e58",
   "metadata": {},
   "outputs": [
    {
     "data": {
      "text/plain": [
       "[7.77, 'flash', 3, 2, 1]"
      ]
     },
     "execution_count": 3,
     "metadata": {},
     "output_type": "execute_result"
    }
   ],
   "source": [
    "my_list = [1,2,3,\"flash\",7.77]\n",
    "my_list[::-1] "
   ]
  },
  {
   "cell_type": "code",
   "execution_count": null,
   "id": "1c36c479",
   "metadata": {},
   "outputs": [],
   "source": []
  }
 ],
 "metadata": {
  "kernelspec": {
   "display_name": "Python 3 (ipykernel)",
   "language": "python",
   "name": "python3"
  },
  "language_info": {
   "codemirror_mode": {
    "name": "ipython",
    "version": 3
   },
   "file_extension": ".py",
   "mimetype": "text/x-python",
   "name": "python",
   "nbconvert_exporter": "python",
   "pygments_lexer": "ipython3",
   "version": "3.11.1"
  }
 },
 "nbformat": 4,
 "nbformat_minor": 5
}
